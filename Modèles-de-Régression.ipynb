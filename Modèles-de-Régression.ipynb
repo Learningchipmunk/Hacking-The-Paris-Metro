{
 "cells": [
  {
   "cell_type": "markdown",
   "metadata": {},
   "source": [
    "<div style=\"text-align: center; font-weight: bold; font-size: 300%\">Projet INF442</div>                                                        <br />\n",
    "<div style=\"text-align: center; font-weight: bold; font-size: 180%\">Modèles de Régression</div> <br />   \n",
    "<div style=\"text-align: center; font-size: 150%\">École Polytechnique, mai 2020</div><br />  \n",
    "<div style=\"text-align: center; font-size: 120%\">Paul Calot et Jean-Charles Layoun</div>"
   ]
  },
  {
   "cell_type": "code",
   "execution_count": 1,
   "metadata": {},
   "outputs": [],
   "source": [
    "import pandas as pd\n",
    "import numpy as np\n",
    "import csv\n",
    "import matplotlib.pylab as plt\n",
    "from datetime import datetime\n",
    "# Display math\n",
    "from IPython.display import display, Math, Latex\n",
    "\n",
    "# For Nicer plots\n",
    "import seaborn as sn\n",
    "\n",
    "#For regression\n",
    "from sklearn.linear_model import LinearRegression\n",
    "from sklearn.model_selection import KFold"
   ]
  },
  {
   "cell_type": "markdown",
   "metadata": {},
   "source": [
    "## Intervalle de temps des training datasets :\n",
    "\n",
    "1. Le 28 mai de 09h17 à 15h14\n",
    "2. Le 28 au 29 mai de 15h14 à 01h05\n",
    "3. Le 29 mai de 06h41 à 11h42\n",
    "4. Le 29 mai de 11h43 à 12h36"
   ]
  },
  {
   "cell_type": "code",
   "execution_count": 2,
   "metadata": {},
   "outputs": [
    {
     "name": "stdout",
     "output_type": "stream",
     "text": [
      "Intervalle de temps du training_set_1 :\n",
      "Début : 28 mai à 09:17:00 et Fin : 28 mai à 15:14:00\n",
      "\n",
      "\n",
      "Intervalle de temps du training_set_2 :\n",
      "Début : 28 mai à 15:14:00 et Fin : 29 mai à 01:05:00\n",
      "\n",
      "\n",
      "Intervalle de temps du training_set_3 :\n",
      "Début : 29 mai à 06:41:00 et Fin : 29 mai à 11:42:00\n",
      "\n",
      "\n",
      "Intervalle de temps du training_set_4 :\n",
      "Début : 29 mai à 11:43:00 et Fin : 29 mai à 12:36:00\n",
      "\n",
      "\n"
     ]
    }
   ],
   "source": [
    "Interval = []\n",
    "\n",
    "# Intervalle for first training set :\n",
    "startTimeTr1 = datetime(2018, 5, 28, 9, 17, 0)\n",
    "endtTimeTr1 = datetime(2018, 5, 28, 15, 14, 0)\n",
    "\n",
    "Interval.append((startTimeTr1, endtTimeTr1))\n",
    "\n",
    "# Intervalle for second training set :\n",
    "startTimeTr2 = endtTimeTr1\n",
    "endtTimeTr2 = datetime(2018, 5, 29, 1, 5, 0)\n",
    "\n",
    "Interval.append((startTimeTr2, endtTimeTr2))\n",
    "\n",
    "# Intervalle for third training set :\n",
    "startTimeTr3 = datetime(2018, 5, 29, 6, 41, 0)\n",
    "endtTimeTr3 = datetime(2018, 5, 29, 11, 42, 0)\n",
    "\n",
    "Interval.append((startTimeTr3, endtTimeTr3))\n",
    "\n",
    "\n",
    "# Intervalle for fourth training set :\n",
    "startTimeTr4 = datetime(2018, 5, 29, 11, 43, 0)\n",
    "endtTimeTr4 = datetime(2018, 5, 29, 12, 36, 0)\n",
    "\n",
    "Interval.append((startTimeTr4, endtTimeTr4))\n",
    "\n",
    "\n",
    "# Print les intervalles\n",
    "for i in range(0, len(Interval)):\n",
    "    print(\"Intervalle de temps du training_set_\" + str(i+1) + \" :\")\n",
    "    print(\"Début : \" + Interval[i][0].strftime('%d mai à %X') + \" et Fin : \" + Interval[i][1].strftime('%d mai à %X'))\n",
    "    print(\"\\n\")"
   ]
  },
  {
   "cell_type": "markdown",
   "metadata": {},
   "source": [
    "## Nous importons les données :\n",
    "\n",
    "Les données ont été produites par le notebook Preprocessing et Processing. Les données sont de la forme : <br>\n",
    "\n",
    "| nom du champ | type | commentaire |\n",
    "| --- | --- | --- |\n",
    "| `Station number` | float | C'est l'entier désignant la station, ils sont numérotés de 0 à 46 |\n",
    "| `Direction` | float | Vaut 1 pour l'aller et -1 pour le retour |\n",
    "| `Announced arrival time` | float | Le temps d'arriver en minutes théorique annoncé par la RATP |\n",
    "| `Travel time` | float | Le temps écoulé entre sa première apparition et son arrivée à destination en minutes. |\n",
    "| `Is late ?` | booléen | Indique si la RATP l'a signalé en retard (1 si c'est le cas) |\n",
    "| `Delta` | float | Temps d'arriver annoncé - temps d'arriver réelle en minutes. |"
   ]
  },
  {
   "cell_type": "code",
   "execution_count": 3,
   "metadata": {},
   "outputs": [
    {
     "data": {
      "text/html": [
       "<div>\n",
       "<style scoped>\n",
       "    .dataframe tbody tr th:only-of-type {\n",
       "        vertical-align: middle;\n",
       "    }\n",
       "\n",
       "    .dataframe tbody tr th {\n",
       "        vertical-align: top;\n",
       "    }\n",
       "\n",
       "    .dataframe thead th {\n",
       "        text-align: right;\n",
       "    }\n",
       "</style>\n",
       "<table border=\"1\" class=\"dataframe\">\n",
       "  <thead>\n",
       "    <tr style=\"text-align: right;\">\n",
       "      <th></th>\n",
       "      <th>Station number</th>\n",
       "      <th>Direction</th>\n",
       "      <th>Announced arrival time</th>\n",
       "      <th>Travel time</th>\n",
       "      <th>Is late ?</th>\n",
       "      <th>Delta</th>\n",
       "    </tr>\n",
       "  </thead>\n",
       "  <tbody>\n",
       "    <tr>\n",
       "      <th>0</th>\n",
       "      <td>1.0</td>\n",
       "      <td>1.0</td>\n",
       "      <td>560.0</td>\n",
       "      <td>3.0</td>\n",
       "      <td>0.0</td>\n",
       "      <td>2.0</td>\n",
       "    </tr>\n",
       "    <tr>\n",
       "      <th>1</th>\n",
       "      <td>1.0</td>\n",
       "      <td>1.0</td>\n",
       "      <td>560.0</td>\n",
       "      <td>3.0</td>\n",
       "      <td>0.0</td>\n",
       "      <td>3.0</td>\n",
       "    </tr>\n",
       "    <tr>\n",
       "      <th>2</th>\n",
       "      <td>1.0</td>\n",
       "      <td>1.0</td>\n",
       "      <td>560.0</td>\n",
       "      <td>3.0</td>\n",
       "      <td>0.0</td>\n",
       "      <td>4.0</td>\n",
       "    </tr>\n",
       "    <tr>\n",
       "      <th>3</th>\n",
       "      <td>1.0</td>\n",
       "      <td>1.0</td>\n",
       "      <td>576.0</td>\n",
       "      <td>19.0</td>\n",
       "      <td>0.0</td>\n",
       "      <td>0.0</td>\n",
       "    </tr>\n",
       "    <tr>\n",
       "      <th>4</th>\n",
       "      <td>1.0</td>\n",
       "      <td>1.0</td>\n",
       "      <td>576.0</td>\n",
       "      <td>19.0</td>\n",
       "      <td>0.0</td>\n",
       "      <td>1.0</td>\n",
       "    </tr>\n",
       "    <tr>\n",
       "      <th>...</th>\n",
       "      <td>...</td>\n",
       "      <td>...</td>\n",
       "      <td>...</td>\n",
       "      <td>...</td>\n",
       "      <td>...</td>\n",
       "      <td>...</td>\n",
       "    </tr>\n",
       "    <tr>\n",
       "      <th>1845</th>\n",
       "      <td>46.0</td>\n",
       "      <td>1.0</td>\n",
       "      <td>799.0</td>\n",
       "      <td>89.0</td>\n",
       "      <td>0.0</td>\n",
       "      <td>0.0</td>\n",
       "    </tr>\n",
       "    <tr>\n",
       "      <th>1846</th>\n",
       "      <td>46.0</td>\n",
       "      <td>1.0</td>\n",
       "      <td>799.0</td>\n",
       "      <td>89.0</td>\n",
       "      <td>0.0</td>\n",
       "      <td>1.0</td>\n",
       "    </tr>\n",
       "    <tr>\n",
       "      <th>1847</th>\n",
       "      <td>46.0</td>\n",
       "      <td>1.0</td>\n",
       "      <td>814.0</td>\n",
       "      <td>89.0</td>\n",
       "      <td>0.0</td>\n",
       "      <td>0.0</td>\n",
       "    </tr>\n",
       "    <tr>\n",
       "      <th>1848</th>\n",
       "      <td>46.0</td>\n",
       "      <td>1.0</td>\n",
       "      <td>814.0</td>\n",
       "      <td>89.0</td>\n",
       "      <td>0.0</td>\n",
       "      <td>1.0</td>\n",
       "    </tr>\n",
       "    <tr>\n",
       "      <th>1849</th>\n",
       "      <td>46.0</td>\n",
       "      <td>1.0</td>\n",
       "      <td>829.0</td>\n",
       "      <td>88.0</td>\n",
       "      <td>0.0</td>\n",
       "      <td>0.0</td>\n",
       "    </tr>\n",
       "  </tbody>\n",
       "</table>\n",
       "<p>1850 rows × 6 columns</p>\n",
       "</div>"
      ],
      "text/plain": [
       "      Station number  Direction  Announced arrival time  Travel time  \\\n",
       "0                1.0        1.0                   560.0          3.0   \n",
       "1                1.0        1.0                   560.0          3.0   \n",
       "2                1.0        1.0                   560.0          3.0   \n",
       "3                1.0        1.0                   576.0         19.0   \n",
       "4                1.0        1.0                   576.0         19.0   \n",
       "...              ...        ...                     ...          ...   \n",
       "1845            46.0        1.0                   799.0         89.0   \n",
       "1846            46.0        1.0                   799.0         89.0   \n",
       "1847            46.0        1.0                   814.0         89.0   \n",
       "1848            46.0        1.0                   814.0         89.0   \n",
       "1849            46.0        1.0                   829.0         88.0   \n",
       "\n",
       "      Is late ?  Delta  \n",
       "0           0.0    2.0  \n",
       "1           0.0    3.0  \n",
       "2           0.0    4.0  \n",
       "3           0.0    0.0  \n",
       "4           0.0    1.0  \n",
       "...         ...    ...  \n",
       "1845        0.0    0.0  \n",
       "1846        0.0    1.0  \n",
       "1847        0.0    0.0  \n",
       "1848        0.0    1.0  \n",
       "1849        0.0    0.0  \n",
       "\n",
       "[1850 rows x 6 columns]"
      ]
     },
     "execution_count": 3,
     "metadata": {},
     "output_type": "execute_result"
    }
   ],
   "source": [
    "## Reading the data from RATP concerning RER B:\n",
    "\n",
    "# Names of the columns :\n",
    "names = [\"Station number\", \"Direction\", \"Announced arrival time\", \"Travel time\", \"Is late ?\", \"Delta\"]\n",
    "\n",
    "# Get only first training data:\n",
    "data1 = pd.read_csv(\"trainingdata_1_aller.csv\", names = names)\n",
    "\n",
    "# Get the third and fourth training data corresponding to 29 of may:\n",
    "testingData1 = pd.concat([pd.read_csv(\"trainingdata_3_aller.csv\", names = names),\n",
    "                         pd.read_csv(\"trainingdata_4_aller.csv\", names = names)], axis=0, ignore_index=True)\n",
    "\n",
    "# Get all training data:\n",
    "li = [data1]\n",
    "\n",
    "for i in range (2, 5):\n",
    "    if(i != 2):li.append(pd.read_csv(\"trainingdata_\" + str(i) + \"_aller.csv\", names = names))\n",
    "\n",
    "allData = pd.concat(li, axis=0, ignore_index=True)\n",
    "\n",
    "data1"
   ]
  },
  {
   "cell_type": "markdown",
   "metadata": {},
   "source": [
    "#### Nous enlevons du bruit : "
   ]
  },
  {
   "cell_type": "code",
   "execution_count": 4,
   "metadata": {},
   "outputs": [
    {
     "data": {
      "text/html": [
       "<div>\n",
       "<style scoped>\n",
       "    .dataframe tbody tr th:only-of-type {\n",
       "        vertical-align: middle;\n",
       "    }\n",
       "\n",
       "    .dataframe tbody tr th {\n",
       "        vertical-align: top;\n",
       "    }\n",
       "\n",
       "    .dataframe thead th {\n",
       "        text-align: right;\n",
       "    }\n",
       "</style>\n",
       "<table border=\"1\" class=\"dataframe\">\n",
       "  <thead>\n",
       "    <tr style=\"text-align: right;\">\n",
       "      <th></th>\n",
       "      <th>Station number</th>\n",
       "      <th>Direction</th>\n",
       "      <th>Announced arrival time</th>\n",
       "      <th>Travel time</th>\n",
       "      <th>Is late ?</th>\n",
       "      <th>Delta</th>\n",
       "    </tr>\n",
       "  </thead>\n",
       "  <tbody>\n",
       "    <tr>\n",
       "      <th>0</th>\n",
       "      <td>1.0</td>\n",
       "      <td>1.0</td>\n",
       "      <td>560.0</td>\n",
       "      <td>3.0</td>\n",
       "      <td>0.0</td>\n",
       "      <td>2.0</td>\n",
       "    </tr>\n",
       "    <tr>\n",
       "      <th>1</th>\n",
       "      <td>1.0</td>\n",
       "      <td>1.0</td>\n",
       "      <td>560.0</td>\n",
       "      <td>3.0</td>\n",
       "      <td>0.0</td>\n",
       "      <td>3.0</td>\n",
       "    </tr>\n",
       "    <tr>\n",
       "      <th>2</th>\n",
       "      <td>1.0</td>\n",
       "      <td>1.0</td>\n",
       "      <td>560.0</td>\n",
       "      <td>3.0</td>\n",
       "      <td>0.0</td>\n",
       "      <td>4.0</td>\n",
       "    </tr>\n",
       "    <tr>\n",
       "      <th>3</th>\n",
       "      <td>1.0</td>\n",
       "      <td>1.0</td>\n",
       "      <td>576.0</td>\n",
       "      <td>19.0</td>\n",
       "      <td>0.0</td>\n",
       "      <td>0.0</td>\n",
       "    </tr>\n",
       "    <tr>\n",
       "      <th>4</th>\n",
       "      <td>1.0</td>\n",
       "      <td>1.0</td>\n",
       "      <td>576.0</td>\n",
       "      <td>19.0</td>\n",
       "      <td>0.0</td>\n",
       "      <td>1.0</td>\n",
       "    </tr>\n",
       "    <tr>\n",
       "      <th>...</th>\n",
       "      <td>...</td>\n",
       "      <td>...</td>\n",
       "      <td>...</td>\n",
       "      <td>...</td>\n",
       "      <td>...</td>\n",
       "      <td>...</td>\n",
       "    </tr>\n",
       "    <tr>\n",
       "      <th>389</th>\n",
       "      <td>10.0</td>\n",
       "      <td>1.0</td>\n",
       "      <td>745.0</td>\n",
       "      <td>43.0</td>\n",
       "      <td>0.0</td>\n",
       "      <td>4.0</td>\n",
       "    </tr>\n",
       "    <tr>\n",
       "      <th>390</th>\n",
       "      <td>10.0</td>\n",
       "      <td>1.0</td>\n",
       "      <td>750.0</td>\n",
       "      <td>44.0</td>\n",
       "      <td>0.0</td>\n",
       "      <td>1.0</td>\n",
       "    </tr>\n",
       "    <tr>\n",
       "      <th>391</th>\n",
       "      <td>10.0</td>\n",
       "      <td>1.0</td>\n",
       "      <td>760.0</td>\n",
       "      <td>42.0</td>\n",
       "      <td>0.0</td>\n",
       "      <td>5.0</td>\n",
       "    </tr>\n",
       "    <tr>\n",
       "      <th>394</th>\n",
       "      <td>10.0</td>\n",
       "      <td>1.0</td>\n",
       "      <td>765.0</td>\n",
       "      <td>0.0</td>\n",
       "      <td>0.0</td>\n",
       "      <td>1.0</td>\n",
       "    </tr>\n",
       "    <tr>\n",
       "      <th>395</th>\n",
       "      <td>10.0</td>\n",
       "      <td>1.0</td>\n",
       "      <td>765.0</td>\n",
       "      <td>0.0</td>\n",
       "      <td>0.0</td>\n",
       "      <td>2.0</td>\n",
       "    </tr>\n",
       "  </tbody>\n",
       "</table>\n",
       "<p>394 rows × 6 columns</p>\n",
       "</div>"
      ],
      "text/plain": [
       "     Station number  Direction  Announced arrival time  Travel time  \\\n",
       "0               1.0        1.0                   560.0          3.0   \n",
       "1               1.0        1.0                   560.0          3.0   \n",
       "2               1.0        1.0                   560.0          3.0   \n",
       "3               1.0        1.0                   576.0         19.0   \n",
       "4               1.0        1.0                   576.0         19.0   \n",
       "..              ...        ...                     ...          ...   \n",
       "389            10.0        1.0                   745.0         43.0   \n",
       "390            10.0        1.0                   750.0         44.0   \n",
       "391            10.0        1.0                   760.0         42.0   \n",
       "394            10.0        1.0                   765.0          0.0   \n",
       "395            10.0        1.0                   765.0          0.0   \n",
       "\n",
       "     Is late ?  Delta  \n",
       "0          0.0    2.0  \n",
       "1          0.0    3.0  \n",
       "2          0.0    4.0  \n",
       "3          0.0    0.0  \n",
       "4          0.0    1.0  \n",
       "..         ...    ...  \n",
       "389        0.0    4.0  \n",
       "390        0.0    1.0  \n",
       "391        0.0    5.0  \n",
       "394        0.0    1.0  \n",
       "395        0.0    2.0  \n",
       "\n",
       "[394 rows x 6 columns]"
      ]
     },
     "execution_count": 4,
     "metadata": {},
     "output_type": "execute_result"
    }
   ],
   "source": [
    "allData.head()\n",
    "\n",
    "for index, row in allData.iterrows():\n",
    "    if(row[\"Delta\"] < -8):\n",
    "        #print(row)\n",
    "        allData = allData.drop(index)\n",
    "\n",
    "allData.iloc[:394]        \n"
   ]
  },
  {
   "cell_type": "markdown",
   "metadata": {},
   "source": [
    "### Matrice de corrélation du premier training dataset :"
   ]
  },
  {
   "cell_type": "code",
   "execution_count": 5,
   "metadata": {},
   "outputs": [
    {
     "data": {
      "image/png": "[encoded data removed]",
      "text/plain": [
       "<Figure size 432x288 with 2 Axes>"
      ]
     },
     "metadata": {
      "needs_background": "light"
     },
     "output_type": "display_data"
    }
   ],
   "source": [
    "corrMatrix = data1.corr()\n",
    "sn.heatmap(corrMatrix, annot=True) #.drop(columns=[\"Travel time\"])\n",
    "plt.show()"
   ]
  },
  {
   "cell_type": "markdown",
   "metadata": {},
   "source": [
    "### Nous traçons `Delta` en fonction de `isLate` pour identifier la dépendance :"
   ]
  },
  {
   "cell_type": "code",
   "execution_count": 6,
   "metadata": {},
   "outputs": [
    {
     "data": {
      "image/png": "[encoded data removed]",
      "text/plain": [
       "<Figure size 432x288 with 1 Axes>"
      ]
     },
     "metadata": {
      "needs_background": "light"
     },
     "output_type": "display_data"
    }
   ],
   "source": [
    "## Plotting Delta to is late:\n",
    "plt.scatter(data1[\"Is late ?\"], data1[\"Delta\"])\n",
    "\n",
    "plt.xlabel(\"Valeurs du booléen isLate\")\n",
    "plt.ylabel(\"Valeurs de Delta en minutes\")\n",
    "plt.title(\"Delta en fonction de isLate :\")\n",
    "plt.show()\n",
    "\n",
    "## On observe une petite augmentation de delta selon s'il a été annoncé en retard ou pas,\n",
    "## Ce comportement est rassurant. La RATP annonce donc bien ses retards. "
   ]
  },
  {
   "cell_type": "markdown",
   "metadata": {},
   "source": [
    "##### Il est clair que `Delta` est supérieur en moyenne lorsque la RATP annonce un retard. Ce qui est rassurant."
   ]
  },
  {
   "cell_type": "markdown",
   "metadata": {},
   "source": [
    "### Nous traçons `Announced Arrival` Time en fonction de `Delta` pour identifier la dépendance :"
   ]
  },
  {
   "cell_type": "code",
   "execution_count": 7,
   "metadata": {},
   "outputs": [
    {
     "data": {
      "image/png": "[encoded data removed]",
      "text/plain": [
       "<Figure size 432x288 with 1 Axes>"
      ]
     },
     "metadata": {
      "needs_background": "light"
     },
     "output_type": "display_data"
    }
   ],
   "source": [
    "## Plotting Delta to is Announced arrival time:\n",
    "plt.scatter(data1[\"Announced arrival time\"], data1[\"Delta\"])\n",
    "\n",
    "plt.xlabel(\"Valeurs de Announced arrival time en minutes\")\n",
    "plt.ylabel(\"Valeurs de Delta en minutes\")\n",
    "plt.title(\"Announced arrival time en fonction de Delta :\")\n",
    "plt.show()\n",
    "\n",
    "## Peu de variation de delta selon Announced arrival time, ce qui explique la faible corrélation"
   ]
  },
  {
   "cell_type": "markdown",
   "metadata": {},
   "source": [
    "## Premier modèle de régression:\n",
    "\n",
    "Même si en théorie, lorsque la RATP annonce qu'un train est en retard il devrait l'être, il reste quand même intéressant d'étudier l'impacte de leur annonce sur le retard des trains avec ce simple modèle de régression linéaire :\n",
    "\n",
    "$$ Y = \\beta_{0} + \\beta_{1}X$$\n",
    "\n",
    "\n",
    "<br>\n",
    "où: \n",
    "<center> Y est le retard en minutes</center>\n",
    "<center>X est le booléen \"isLate\" qui vaut 0 ou 1 (dummy var)</center>\n",
    "\n",
    "<br>\n",
    "\n",
    "##### Questionnement :\n",
    "\n",
    "</br>\n",
    "\n",
    "1. Est-ce que la RATP réussit à annoncer la grande majorité des retards ?\n",
    "2. Est-ce qu'elle se trompe ?\n",
    "3. Si oui quelles sont les proportions d'erreurs de ces annonces ?\n"
   ]
  },
  {
   "cell_type": "code",
   "execution_count": 8,
   "metadata": {},
   "outputs": [
    {
     "data": {
      "text/latex": [
       "$\\displaystyle R^2_1 = 0.2033$"
      ],
      "text/plain": [
       "<IPython.core.display.Math object>"
      ]
     },
     "metadata": {},
     "output_type": "display_data"
    },
    {
     "data": {
      "text/latex": [
       "$\\displaystyle \\beta_0 = 1.7048$"
      ],
      "text/plain": [
       "<IPython.core.display.Math object>"
      ]
     },
     "metadata": {},
     "output_type": "display_data"
    },
    {
     "data": {
      "text/latex": [
       "$\\displaystyle \\beta_1 = 5.86417$"
      ],
      "text/plain": [
       "<IPython.core.display.Math object>"
      ]
     },
     "metadata": {},
     "output_type": "display_data"
    },
    {
     "data": {
      "image/png": "[encoded data removed]",
      "text/plain": [
       "<Figure size 432x288 with 1 Axes>"
      ]
     },
     "metadata": {
      "needs_background": "light"
     },
     "output_type": "display_data"
    }
   ],
   "source": [
    "# Variable chosen:\n",
    "X = pd.DataFrame(data1[\"Is late ?\"])\n",
    "y = pd.DataFrame(data1[\"Delta\"])\n",
    "\n",
    "\n",
    "model1 = LinearRegression()\n",
    "\n",
    "## Splits the training data into 3 sets :\n",
    "\"\"\"\n",
    "scores = []\n",
    "kfold = KFold(n_splits=3, shuffle=True, random_state=42)\n",
    "\n",
    "for i, (train, test) in enumerate(kfold.split(X, y)):\n",
    "    model.fit(X.iloc[train,:], y.iloc[train,:])\n",
    "    score = model.score(X.iloc[test,:], y.iloc[test,:])\n",
    "    scores.append(score)\n",
    "print(scores)\n",
    "\"\"\"\n",
    "\n",
    "model1.fit(X, y)\n",
    "score1 = model1.score(X, y)\n",
    "Beta1_m1 = model1.coef_[0][0]\n",
    "Beta0_m1 = model1.intercept_[0]\n",
    "\n",
    "display(Math(r'R^2_1 = {0}'.format(score1.round(5))) )\n",
    "display(Math(r'\\beta_0 = {0}'.format(Beta0_m1.round(5))) )\n",
    "display(Math(r'\\beta_1 = {0}'.format(Beta1_m1.round(5))) )\n",
    "\n",
    "# Predicts\n",
    "y_pred = Beta0_m1 + Beta1_m1 * X.to_numpy()\n",
    "\n",
    "## On trace la nouvelle courbe:\n",
    "\n",
    "# Réalité\n",
    "plt.scatter(data1[\"Is late ?\"], data1[\"Delta\"], color = \"blue\", label = \"Réalité\")\n",
    "\n",
    "# Prédictions\n",
    "plt.scatter(X.to_numpy(), y_pred, color = \"red\", label = \"Prédiction\")\n",
    "\n",
    "\n",
    "\n",
    "plt.xlabel(\"Valeurs du booléen isLate\")\n",
    "plt.ylabel(\"Valeurs de Delta prédite\")\n",
    "\n",
    "plt.legend()\n",
    "\n",
    "plt.title(\"Delta en fonction de isLate :\")\n",
    "plt.show()"
   ]
  },
  {
   "cell_type": "markdown",
   "metadata": {},
   "source": [
    "#### Observations :\n",
    "\n",
    "1. Le modèle explique très peu les retards des trains en minutes, $R^2$ = 0.194. Ceci est dû à la variance des retards en minutes qu'il peut y avoir. (Pas très choquant.)\n",
    "2. Par contre, un comportement quand même rassurant c'est que lorsque la RATP signale le retard le train prend en moyenne  5.6 minutes de retard de plus. Les trains donc signalés en retard sont en moyenne plus en retard !\n",
    "3. Toute fois nous n'avons pas répondu à la question est-ce que la RATP se trompe. Nous comptons le faire dans la partie qui suit.\n",
    "4. En ajoutant toutes les données de l'aller, $R^2$ diminue jusqu'à 18.4, c'est surement dû à l'ajout du bruit par le fichier trainingdata_2_aller. Le bruit est observable par le dernier tracé de ce document. C'est pour cela qu'on entraine le modèle sur data1.\n",
    "5. Il serait aussi intéressant de voir si nous pouvons améliorer le modèle si nous y ajoutons les dates annoncées de la RATP.\n"
   ]
  },
  {
   "cell_type": "markdown",
   "metadata": {},
   "source": [
    "### Combien de fois la RATP se trompe-t-elle ?"
   ]
  },
  {
   "cell_type": "code",
   "execution_count": 9,
   "metadata": {},
   "outputs": [
    {
     "name": "stdout",
     "output_type": "stream",
     "text": [
      "Taux de fausses alarmes de la RATP : 0.2162%\n",
      "\n",
      "\n",
      "Ce taux est assez bas, ce qui peut refléter la politique de la RATP sur les annonces des retard, minimiser les faux positifs.\n"
     ]
    }
   ],
   "source": [
    "## Le nombre de fois où ils disent que le train est en retard et il ne l'est pas:\n",
    "countFalseAlarams = 0\n",
    "for index, row in data1.iterrows():\n",
    "    if(row[\"Delta\"] <= 0 and row[\"Is late ?\"]):\n",
    "        #print(row)\n",
    "        countFalseAlarams += 1\n",
    "        \n",
    "print(\"Taux de fausses alarmes de la RATP : \" + str(countFalseAlarams / data1.shape[0] * 100)[:6]  + \"%\")\n",
    "print(\"\\n\")\n",
    "print(\"Ce taux est assez bas, ce qui peut refléter la politique de la RATP sur les annonces des retard, minimiser les faux positifs.\")"
   ]
  },
  {
   "cell_type": "code",
   "execution_count": 10,
   "metadata": {},
   "outputs": [
    {
     "name": "stdout",
     "output_type": "stream",
     "text": [
      "Taux de faux négatifs : 5.5135%\n",
      "\n",
      "\n",
      "Ce taux est bas, ils ne se trompent pas au tant qu'on ne peut le penser...\n"
     ]
    }
   ],
   "source": [
    "## Le nombre de fois où ils ne disent pas que le train est en retard et il l'est:\n",
    "countFalseNegatives = 0\n",
    "for index, row in data1.iterrows():\n",
    "    ## On considère qu'il est vraiment en retard à partir de 4 min:\n",
    "    if(row[\"Delta\"] >  4 and not(row[\"Is late ?\"]) ):\n",
    "        #print(row)\n",
    "        countFalseNegatives += 1\n",
    "        \n",
    "print(\"Taux de faux négatifs : \" + str( (countFalseNegatives / data1.shape[0] * 100) )[:6]  + \"%\")\n",
    "print(\"\\n\")\n",
    "print(\"Ce taux est bas, ils ne se trompent pas au tant qu'on ne peut le penser...\")"
   ]
  },
  {
   "cell_type": "markdown",
   "metadata": {},
   "source": [
    "##### Quid du temps annoncé ?"
   ]
  },
  {
   "cell_type": "code",
   "execution_count": 11,
   "metadata": {},
   "outputs": [
    {
     "name": "stdout",
     "output_type": "stream",
     "text": [
      "Taux de mauvaises annonces à 1 minute près : 51.891%\n",
      "\n",
      "\n",
      "Taux de mauvaises annonces à 3 minutes près : 14.594%\n",
      "\n",
      "\n",
      "Taux de mauvaises annonces à 4 minutes près : 8.1081%\n",
      "\n",
      "\n",
      "Taux de mauvaises annonces à 6 minutes près : 2.0540%\n",
      "\n",
      "\n",
      "Taux de mauvaises annonces à 10 minutes près : 1.0810%\n",
      "\n",
      "\n"
     ]
    }
   ],
   "source": [
    "## Le nombre de fois où la RATP se trompe dans son heure d'arriver:\n",
    "\n",
    "nbreOfT = 5\n",
    "countErrors = [0 for i in range(0,nbreOfT)]\n",
    "precisions = [1, 3, 4, 6, 10]\n",
    "\n",
    "for index, row in data1.iterrows():\n",
    "    ## On compte les mauvaises annonce selon la précision qui varie:\n",
    "    \n",
    "    for i in range (0 , nbreOfT):\n",
    "        if(abs(row[\"Delta\"]) >  precisions[i] ):\n",
    "            #print(row)\n",
    "            countErrors[i] += 1\n",
    "\n",
    "for i in range (0  ,nbreOfT):    \n",
    "    minute = \" minute \" if i==0 else \" minutes \"\n",
    "    print(\"Taux de mauvaises annonces à \" + str(precisions[i]) + minute + \"près : \" + str( (countErrors[i] / data1.shape[0] * 100) )[:6]  + \"%\")\n",
    "    print(\"\\n\")\n",
    "    "
   ]
  },
  {
   "cell_type": "markdown",
   "metadata": {},
   "source": [
    "##### Donc 85% des annonces sont bonnes à 3 minutes près. Ce qui est déjà très bien."
   ]
  },
  {
   "cell_type": "markdown",
   "metadata": {},
   "source": [
    "## Second modèle de régression:\n",
    "\n",
    "Il nous reste à voir si la date d'arriver annoncée nous permet de mieux expliquer les retards du RER B, ajoutons-le au modèle :\n",
    "\n",
    "$$ Y = \\beta_{0} + \\beta_{1}X_1 + \\beta_{2}X_2 $$\n",
    "\n",
    "où :\n",
    "<br>\n",
    "<center>Y est le retard en minutes,</center>\n",
    "<center>$X_1$ est le booléen \"isLate\" qui vaut 0 ou 1 (dummy var)</center>\n",
    "<center>$X_2$ est la variable \"Announced arrival time\" en minutes</center>\n",
    "\n",
    "</br></br>\n"
   ]
  },
  {
   "cell_type": "code",
   "execution_count": 12,
   "metadata": {},
   "outputs": [
    {
     "data": {
      "text/latex": [
       "$\\displaystyle R^2_2 = 0.20397$"
      ],
      "text/plain": [
       "<IPython.core.display.Math object>"
      ]
     },
     "metadata": {},
     "output_type": "display_data"
    },
    {
     "data": {
      "text/latex": [
       "$\\displaystyle \\beta_0 = 1.20579$"
      ],
      "text/plain": [
       "<IPython.core.display.Math object>"
      ]
     },
     "metadata": {},
     "output_type": "display_data"
    },
    {
     "data": {
      "text/latex": [
       "$\\displaystyle \\beta_1 = 5.79059$"
      ],
      "text/plain": [
       "<IPython.core.display.Math object>"
      ]
     },
     "metadata": {},
     "output_type": "display_data"
    },
    {
     "data": {
      "text/latex": [
       "$\\displaystyle \\beta_2 = 5.79059$"
      ],
      "text/plain": [
       "<IPython.core.display.Math object>"
      ]
     },
     "metadata": {},
     "output_type": "display_data"
    }
   ],
   "source": [
    "X2 = pd.DataFrame(data1[[\"Is late ?\", \"Announced arrival time\"]])\n",
    "y = pd.DataFrame(data1[\"Delta\"])\n",
    "\n",
    "\n",
    "model2 = LinearRegression()\n",
    "model2.fit(X2, y)\n",
    "\n",
    "score2 = model2.score(X2, y)\n",
    "Beta2 = model2.coef_[0][0]\n",
    "Beta1 = model2.coef_[0][0]\n",
    "Beta0 = model2.intercept_[0]\n",
    "\n",
    "display(Math(r'R^2_2 = {0}'.format(score2.round(5))) )\n",
    "display(Math(r'\\beta_0 = {0}'.format(Beta0.round(5))) )\n",
    "display(Math(r'\\beta_1 = {0}'.format(Beta1.round(5))) )\n",
    "display(Math(r'\\beta_2 = {0}'.format(Beta2.round(5))) )\n"
   ]
  },
  {
   "cell_type": "markdown",
   "metadata": {},
   "source": [
    "##### Très faible augmentation de $R^2$, `Announced arrival time` ajoute très peu d'informations au modèle. En plus $\\beta_2$ est très faible ! Son impacte est vraiment mininme. Rien d'inatendu puisque les annonces ne devraient pas influer sur le retard du train. "
   ]
  },
  {
   "cell_type": "markdown",
   "metadata": {},
   "source": [
    "## Troisième modèle de régression:\n",
    "\n",
    "L'objectif initiale était de voir si nous pouvons avec les données que nous avons récolté, mieux prédire le retard que la RATP. D'où l'existance du troisième modèle où nous prenons en compte toutes les variables :\n",
    "\n",
    "$$ Y = \\beta_{0} + \\beta_{1}X_1 + \\beta_{2}X_2 + \\beta_{3}X_3 + \\beta_{4}X_4 $$\n",
    "\n",
    "où :\n",
    "<br>\n",
    "<center>Y est le retard en minutes,</center>\n",
    "<center>$X_1$ est le booléen \"isLate qui\" vaut 0 ou 1 (dummy var)</center>\n",
    "<center>$X_2$ est la variable \"Announced arrival time\" en minutes</center>\n",
    "<center>$X_3$ est la variable \"Travel time\" en minutes</center>\n",
    "<center>$X_4$ est la variable \"Station number\" en minutes</center>\n",
    "\n",
    "</br></br>\n"
   ]
  },
  {
   "cell_type": "code",
   "execution_count": 13,
   "metadata": {},
   "outputs": [
    {
     "data": {
      "text/latex": [
       "$\\displaystyle R^2_3 = 0.20617$"
      ],
      "text/plain": [
       "<IPython.core.display.Math object>"
      ]
     },
     "metadata": {},
     "output_type": "display_data"
    },
    {
     "data": {
      "text/latex": [
       "$\\displaystyle \\beta_0 = 1.35316$"
      ],
      "text/plain": [
       "<IPython.core.display.Math object>"
      ]
     },
     "metadata": {},
     "output_type": "display_data"
    },
    {
     "data": {
      "text/latex": [
       "$\\displaystyle \\beta_1 = 5.73601$"
      ],
      "text/plain": [
       "<IPython.core.display.Math object>"
      ]
     },
     "metadata": {},
     "output_type": "display_data"
    },
    {
     "data": {
      "text/latex": [
       "$\\displaystyle \\beta_2 = 0.00091$"
      ],
      "text/plain": [
       "<IPython.core.display.Math object>"
      ]
     },
     "metadata": {},
     "output_type": "display_data"
    },
    {
     "data": {
      "text/latex": [
       "$\\displaystyle \\beta_3 = -0.00377$"
      ],
      "text/plain": [
       "<IPython.core.display.Math object>"
      ]
     },
     "metadata": {},
     "output_type": "display_data"
    },
    {
     "data": {
      "text/latex": [
       "$\\displaystyle \\beta_4 = -0.00781$"
      ],
      "text/plain": [
       "<IPython.core.display.Math object>"
      ]
     },
     "metadata": {},
     "output_type": "display_data"
    },
    {
     "data": {
      "text/latex": [
       "$\\displaystyle R^2_3 - R^2_1 = 0.00287$"
      ],
      "text/plain": [
       "<IPython.core.display.Math object>"
      ]
     },
     "metadata": {},
     "output_type": "display_data"
    }
   ],
   "source": [
    "X3 = pd.DataFrame(data1[[\"Is late ?\", \"Announced arrival time\", \"Travel time\", \"Station number\"]])\n",
    "y = pd.DataFrame(data1[\"Delta\"])\n",
    "\n",
    "\n",
    "model3= LinearRegression()\n",
    "model3.fit(X3, y)\n",
    "\n",
    "score3 = model3.score(X3, y)\n",
    "Beta4 = model3.coef_[0][3]\n",
    "Beta3 = model3.coef_[0][2]\n",
    "Beta2 = model3.coef_[0][1]\n",
    "Beta1 = model3.coef_[0][0]\n",
    "Beta0 = model3.intercept_[0]\n",
    "\n",
    "display(Math(r'R^2_3 = {0}'.format(score3.round(5))) )\n",
    "display(Math(r'\\beta_0 = {0}'.format(Beta0.round(5))) )\n",
    "display(Math(r'\\beta_1 = {0}'.format(Beta1.round(5))) )\n",
    "display(Math(r'\\beta_2 = {0}'.format(Beta2.round(5))) )\n",
    "display(Math(r'\\beta_3 = {0}'.format(Beta3.round(5))) )\n",
    "display(Math(r'\\beta_4 = {0}'.format(Beta4.round(5))) )\n",
    "\n",
    "display(Math(r'R^2_3 - R^2_1 = {0}'.format((score3 - score1).round(5))))\n"
   ]
  },
  {
   "cell_type": "markdown",
   "metadata": {},
   "source": [
    "##### Ce modèle a un $R^2$ plus élevé de 0.003 par rapport au modèle 1, ce qui veut dire qu'on peut un peu mieux prédire les retard en minutes que seulement avec le message de retard de la RATP pour data1. Voyons voir si c'est le cas sur le testingdata1."
   ]
  },
  {
   "cell_type": "markdown",
   "metadata": {},
   "source": [
    "## Comparons la précision des prédictions du modèle 1 au modèle 3"
   ]
  },
  {
   "cell_type": "code",
   "execution_count": 14,
   "metadata": {},
   "outputs": [
    {
     "data": {
      "text/latex": [
       "$\\displaystyle Rtest^2_1 = 0.10543$"
      ],
      "text/plain": [
       "<IPython.core.display.Math object>"
      ]
     },
     "metadata": {},
     "output_type": "display_data"
    },
    {
     "data": {
      "text/latex": [
       "$\\displaystyle Rtest^2_3 = 0.10087$"
      ],
      "text/plain": [
       "<IPython.core.display.Math object>"
      ]
     },
     "metadata": {},
     "output_type": "display_data"
    }
   ],
   "source": [
    "## La journée du 29 mai:\n",
    "testingData1\n",
    "\n",
    "Xtest3 = pd.DataFrame(testingData1[[\"Is late ?\", \"Announced arrival time\", \"Travel time\", \"Station number\"]])\n",
    "Xtest1 = pd.DataFrame(testingData1[\"Is late ?\"])\n",
    "ytest = pd.DataFrame(testingData1[\"Delta\"])\n",
    "\n",
    "display(Math(r'Rtest^2_1 = {0}'.format((model1.score(Xtest1, ytest)).round(5))))\n",
    "display(Math(r'Rtest^2_3 = {0}'.format((model3.score(Xtest3, ytest)).round(5))))\n"
   ]
  },
  {
   "cell_type": "markdown",
   "metadata": {},
   "source": [
    "### Conclusion :\n",
    "\n",
    "Le $R^2$ du modèle 1 est supérieure à celui du modèle 3.\n",
    "<br>\n",
    "Le fait que nous prenons plus de variables en compte que le modèle 1 peut expliquer une meilleur adaptations au training set ce qui résulte en un `overfitting`. En effet, sur le training set `data1`, le score du modèle 3 est supérieure au modèle 1 ce qui est l'inverse ici."
   ]
  },
  {
   "cell_type": "markdown",
   "metadata": {},
   "source": [
    "### Voyons si nous prédisons les heures d'arriver mieux que la RATP sur `data1` :"
   ]
  },
  {
   "cell_type": "code",
   "execution_count": 15,
   "metadata": {},
   "outputs": [
    {
     "name": "stdout",
     "output_type": "stream",
     "text": [
      "Taux de mauvaises prédictions à 1 minute près : 43.945%\n",
      "\n",
      "\n",
      "Taux de mauvaises prédictions à 3 minutes près : 8.9729%\n",
      "\n",
      "\n",
      "Taux de mauvaises prédictions à 4 minutes près : 4.3243%\n",
      "\n",
      "\n",
      "Taux de mauvaises prédictions à 6 minutes près : 1.5135%\n",
      "\n",
      "\n",
      "Taux de mauvaises prédictions à 10 minutes près : 0.6486%\n",
      "\n",
      "\n"
     ]
    }
   ],
   "source": [
    "X3_np = X3.to_numpy()\n",
    "y_pred = Beta0 + Beta1 * X3_np[:,0] + Beta2 * X3_np[:,1] + Beta3 * X3_np[:,2] + Beta4 * X3_np[:,3]\n",
    "\n",
    "\n",
    "## Le nombre de fois où nous nous trompons:\n",
    "\n",
    "nbreOfT = 5\n",
    "countOurErrors = [0 for i in range(0,nbreOfT)]\n",
    "precisions = [1, 3, 4, 6, 10]\n",
    "\n",
    "for index, row in data1.iterrows():\n",
    "    ## On compte les mauvaises annonce selon la précision qui varie:\n",
    "    \n",
    "    for i in range (0 , nbreOfT):\n",
    "        if(abs(row[\"Delta\"] - y_pred[index - 1]) >  precisions[i] ):\n",
    "            #print(row)\n",
    "            countOurErrors[i] += 1\n",
    "\n",
    "for i in range (0, nbreOfT):\n",
    "    minute = \" minute \" if i==0 else \" minutes \" \n",
    "    print(\"Taux de mauvaises prédictions à \" + str(precisions[i]) + minute + \"près : \" + str( (countOurErrors[i] / data1.shape[0] * 100) )[:6]  + \"%\")\n",
    "    print(\"\\n\")\n"
   ]
  },
  {
   "cell_type": "markdown",
   "metadata": {},
   "source": [
    "##### Donc 92% des prédictions de notre modèle sont bonnes à 3 minutes près. Ce qui est 6% mieux que la RATP.\n",
    "\n",
    "Il reste quand même à voir si avec nos données d'apprentissage, nous pouvons mieux faire que la RATP sur un nouveau jeu de donnée."
   ]
  },
  {
   "cell_type": "markdown",
   "metadata": {},
   "source": [
    "## Voyons si nous prédisons les heures d'arriver mieux que la RATP sur `testingData1` :"
   ]
  },
  {
   "cell_type": "markdown",
   "metadata": {},
   "source": [
    "### Erreurs de la RATP sur `testingData1` :"
   ]
  },
  {
   "cell_type": "code",
   "execution_count": 16,
   "metadata": {},
   "outputs": [
    {
     "name": "stdout",
     "output_type": "stream",
     "text": [
      "Taux de mauvaises annonces à 1 minute près : 53.726%\n",
      "\n",
      "\n",
      "Taux de mauvaises annonces à 3 minutes près : 15.235%\n",
      "\n",
      "\n",
      "Taux de mauvaises annonces à 4 minutes près : 8.4905%\n",
      "\n",
      "\n",
      "Taux de mauvaises annonces à 6 minutes près : 4.1981%\n",
      "\n",
      "\n",
      "Taux de mauvaises annonces à 10 minutes près : 0.7075%\n",
      "\n",
      "\n"
     ]
    }
   ],
   "source": [
    "## Le nombre de fois où la RATP se trompe dans son heure d'arriver:\n",
    "\n",
    "nbreOfT = 5\n",
    "countErrors = [0 for i in range(0,nbreOfT)]\n",
    "precisions = [1, 3, 4, 6, 10]\n",
    "\n",
    "for index, row in testingData1.iterrows():\n",
    "    ## On compte les mauvaises annonce selon la précision qui varie:\n",
    "    \n",
    "    for i in range (0 , nbreOfT):\n",
    "        if(abs(row[\"Delta\"]) >  precisions[i] ):\n",
    "            #print(row)\n",
    "            countErrors[i] += 1\n",
    "\n",
    "for i in range (0  ,nbreOfT):\n",
    "    minute = \" minute \" if i==0 else \" minutes \"\n",
    "    print(\"Taux de mauvaises annonces à \" + str(precisions[i]) + minute + \"près : \" + str( (countErrors[i] / testingData1.shape[0] * 100) )[:6]  + \"%\")\n",
    "    print(\"\\n\")\n",
    "    "
   ]
  },
  {
   "cell_type": "markdown",
   "metadata": {},
   "source": [
    "### Erreurs de notre modèle 3 sur `testingData1` :"
   ]
  },
  {
   "cell_type": "code",
   "execution_count": 17,
   "metadata": {},
   "outputs": [
    {
     "name": "stdout",
     "output_type": "stream",
     "text": [
      "Taux de mauvaises prédictions à 1 minute près : 46.556%\n",
      "\n",
      "\n",
      "Taux de mauvaises prédictions à 3 minutes près : 8.3962%\n",
      "\n",
      "\n",
      "Taux de mauvaises prédictions à 4 minutes près : 5.2830%\n",
      "\n",
      "\n",
      "Taux de mauvaises prédictions à 6 minutes près : 1.9339%\n",
      "\n",
      "\n",
      "Taux de mauvaises prédictions à 10 minutes près : 0.1415%\n",
      "\n",
      "\n"
     ]
    }
   ],
   "source": [
    "Xtest3_np = Xtest3.to_numpy()\n",
    "y_pred2 = Beta0 + Beta1 * Xtest3_np[:,0] + Beta2 * Xtest3_np[:,1] + Beta3 * Xtest3_np[:,2] + Beta4 * Xtest3_np[:,3]\n",
    "\n",
    "\n",
    "## Le nombre de fois où nous nous trompons:\n",
    "\n",
    "nbreOfT = 5\n",
    "countOurErrors = [0 for i in range(0,nbreOfT)]\n",
    "precisions = [1, 3, 4, 6, 10]\n",
    "\n",
    "for index, row in testingData1.iterrows():\n",
    "    ## On compte les mauvaises annonce selon la précision qui varie:\n",
    "    \n",
    "    for i in range (0 , nbreOfT):\n",
    "        if(abs(row[\"Delta\"] - y_pred2[index - 1]) >  precisions[i] ):\n",
    "            #print(row)\n",
    "            countOurErrors[i] += 1\n",
    "\n",
    "for i in range (0  ,nbreOfT):\n",
    "    minute = \" minute \" if i==0 else \" minutes \"\n",
    "    print(\"Taux de mauvaises prédictions à \" + str(precisions[i]) + minute + \"près : \" + str( (countOurErrors[i] / testingData1.shape[0] * 100) )[:6]  + \"%\")\n",
    "    print(\"\\n\")\n"
   ]
  },
  {
   "cell_type": "markdown",
   "metadata": {},
   "source": [
    "#### Conclusion :\n",
    "\n",
    "1. Ici, la différence entre nos prédictions et celles de la RATP sont moins grandes que pour le training dataset `data1`, 7% mieux que la RATP pour un intervalle de 3 minutes.<br>\n",
    "2. Juste grâce aux données prises d'Open Data de 9h à 15h du 28 mai 2018, nous réusissons à mieux prédire les retards que la RATP. Ce qui est déjà pas mal considérant le peu d'informations utilisées."
   ]
  },
  {
   "cell_type": "markdown",
   "metadata": {},
   "source": [
    "### Erreurs de notre modèle 1 sur `testingData1` :"
   ]
  },
  {
   "cell_type": "code",
   "execution_count": 18,
   "metadata": {},
   "outputs": [
    {
     "name": "stdout",
     "output_type": "stream",
     "text": [
      "Taux de mauvaises prédictions à 1 minute près : 46.556%\n",
      "\n",
      "\n",
      "Taux de mauvaises prédictions à 3 minutes près : 8.3962%\n",
      "\n",
      "\n",
      "Taux de mauvaises prédictions à 4 minutes près : 5.2830%\n",
      "\n",
      "\n",
      "Taux de mauvaises prédictions à 6 minutes près : 1.9339%\n",
      "\n",
      "\n",
      "Taux de mauvaises prédictions à 10 minutes près : 0.1415%\n",
      "\n",
      "\n"
     ]
    }
   ],
   "source": [
    "Xtest1_np = Xtest1.to_numpy()\n",
    "y_pred3 = Beta0_m1 + Beta1_m1 * Xtest1_np\n",
    "\n",
    "## Le nombre de fois où nous nous trompons:\n",
    "\n",
    "nbreOfT = 5\n",
    "countOurErrors = [0 for i in range(0,nbreOfT)]\n",
    "precisions = [1, 3, 4, 6, 10]\n",
    "\n",
    "for index, row in testingData1.iterrows():\n",
    "    ## On compte les mauvaises annonce selon la précision qui varie:\n",
    "    \n",
    "    for i in range (0 , nbreOfT):\n",
    "        if(abs(row[\"Delta\"] - y_pred3[index - 1]) >  precisions[i] ):\n",
    "            #print(row)\n",
    "            countOurErrors[i] += 1\n",
    "\n",
    "for i in range (0  ,nbreOfT):\n",
    "    minute = \" minute \" if i==0 else \" minutes \"\n",
    "    print(\"Taux de mauvaises prédictions à \" + str(precisions[i]) + minute + \"près : \" + str( (countOurErrors[i] / testingData1.shape[0] * 100) )[:6]  + \"%\")\n",
    "    print(\"\\n\")\n"
   ]
  },
  {
   "cell_type": "markdown",
   "metadata": {},
   "source": [
    "## Matrice de corrélation de tout le training dataset :"
   ]
  },
  {
   "cell_type": "code",
   "execution_count": 19,
   "metadata": {},
   "outputs": [
    {
     "data": {
      "image/png": "[encoded data removed]",
      "text/plain": [
       "<Figure size 432x288 with 2 Axes>"
      ]
     },
     "metadata": {
      "needs_background": "light"
     },
     "output_type": "display_data"
    }
   ],
   "source": [
    "sn.heatmap(allData.corr(), annot=True)\n",
    "plt.show()"
   ]
  },
  {
   "cell_type": "markdown",
   "metadata": {},
   "source": [
    "###### C'est à peu près la même matrice de corrélation qu'avec data1."
   ]
  },
  {
   "cell_type": "markdown",
   "metadata": {},
   "source": [
    "### Nous traçons `Announced arrival time` en fonction de `Delta` pour identifier le bruit : "
   ]
  },
  {
   "cell_type": "code",
   "execution_count": 20,
   "metadata": {},
   "outputs": [
    {
     "data": {
      "image/png": "[encoded data removed]",
      "text/plain": [
       "<Figure size 432x288 with 1 Axes>"
      ]
     },
     "metadata": {
      "needs_background": "light"
     },
     "output_type": "display_data"
    }
   ],
   "source": [
    "## Plotting Delta to is Announced arrival time:\n",
    "plt.scatter(allData[\"Announced arrival time\"], allData[\"Delta\"])\n",
    "\n",
    "plt.xlabel(\"Valeurs de Announced arrival time en minutes\")\n",
    "plt.ylabel(\"Valeurs de Delta en minutes\")\n",
    "plt.title(\"Announced arrival time en fonction de Delta :\")\n",
    "plt.show()\n",
    "\n",
    "\n",
    "## La variance est plus élevée que pour data1, nous onbservons plus de bruits."
   ]
  }
 ],
 "metadata": {
  "kernelspec": {
   "display_name": "Python 3",
   "language": "python",
   "name": "python3"
  },
  "language_info": {
   "codemirror_mode": {
    "name": "ipython",
    "version": 3
   },
   "file_extension": ".py",
   "mimetype": "text/x-python",
   "name": "python",
   "nbconvert_exporter": "python",
   "pygments_lexer": "ipython3",
   "version": "3.7.6"
  }
 },
 "nbformat": 4,
 "nbformat_minor": 4
}
